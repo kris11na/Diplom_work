{
  "cells": [
    {
      "cell_type": "markdown",
      "metadata": {
        "id": "view-in-github",
        "colab_type": "text"
      },
      "source": [
        "<a href=\"https://colab.research.google.com/github/kris11na/Kristina/blob/master/Diplom_Balina_sign.ipynb\" target=\"_parent\"><img src=\"https://colab.research.google.com/assets/colab-badge.svg\" alt=\"Open In Colab\"/></a>"
      ]
    },
    {
      "cell_type": "code",
      "execution_count": null,
      "id": "c3be4cdc",
      "metadata": {
        "id": "c3be4cdc"
      },
      "outputs": [],
      "source": [
        "import numpy as np\n",
        "import pandas as pd\n",
        "import yfinance as yf\n",
        "import matplotlib.pyplot as plt"
      ]
    },
    {
      "cell_type": "code",
      "execution_count": null,
      "id": "416cb922",
      "metadata": {
        "id": "416cb922"
      },
      "outputs": [],
      "source": [
        "data_raw_germ_DAX = pd.read_html('https://en.wikipedia.org/wiki/DAX', match='Ticker')\n"
      ]
    },
    {
      "cell_type": "code",
      "execution_count": null,
      "id": "e0d4648b",
      "metadata": {
        "scrolled": true,
        "id": "e0d4648b",
        "outputId": "deccf2be-d7af-447d-9fed-cd1aef56bb3c",
        "colab": {
          "base_uri": "https://localhost:8080/",
          "height": 206
        }
      },
      "outputs": [
        {
          "output_type": "execute_result",
          "data": {
            "text/plain": [
              "   Logo  Company Prime Standard Sector   Ticker  Index weighting (%)1  \\\n",
              "0   NaN   Adidas               Apparel   ADS.DE                   2.0   \n",
              "1   NaN   Airbus   Aerospace & Defence   AIR.DE                   6.0   \n",
              "2   NaN  Allianz    Financial Services   ALV.DE                   7.1   \n",
              "3   NaN     BASF             Chemicals   BAS.DE                   3.5   \n",
              "4   NaN    Bayer       Pharmaceuticals  BAYN.DE                   4.8   \n",
              "\n",
              "        Employees  Founded  \n",
              "0  061,401 (2021)     1924  \n",
              "1  126.495 (2021)     1970  \n",
              "2  155,411 (2021)     1890  \n",
              "3  111,047 (2021)     1865  \n",
              "4  099,637 (2021)     1863  "
            ],
            "text/html": [
              "\n",
              "  <div id=\"df-b9c94eea-f0fb-4f8d-a299-b65f2e0fc4e7\" class=\"colab-df-container\">\n",
              "    <div>\n",
              "<style scoped>\n",
              "    .dataframe tbody tr th:only-of-type {\n",
              "        vertical-align: middle;\n",
              "    }\n",
              "\n",
              "    .dataframe tbody tr th {\n",
              "        vertical-align: top;\n",
              "    }\n",
              "\n",
              "    .dataframe thead th {\n",
              "        text-align: right;\n",
              "    }\n",
              "</style>\n",
              "<table border=\"1\" class=\"dataframe\">\n",
              "  <thead>\n",
              "    <tr style=\"text-align: right;\">\n",
              "      <th></th>\n",
              "      <th>Logo</th>\n",
              "      <th>Company</th>\n",
              "      <th>Prime Standard Sector</th>\n",
              "      <th>Ticker</th>\n",
              "      <th>Index weighting (%)1</th>\n",
              "      <th>Employees</th>\n",
              "      <th>Founded</th>\n",
              "    </tr>\n",
              "  </thead>\n",
              "  <tbody>\n",
              "    <tr>\n",
              "      <th>0</th>\n",
              "      <td>NaN</td>\n",
              "      <td>Adidas</td>\n",
              "      <td>Apparel</td>\n",
              "      <td>ADS.DE</td>\n",
              "      <td>2.0</td>\n",
              "      <td>061,401 (2021)</td>\n",
              "      <td>1924</td>\n",
              "    </tr>\n",
              "    <tr>\n",
              "      <th>1</th>\n",
              "      <td>NaN</td>\n",
              "      <td>Airbus</td>\n",
              "      <td>Aerospace &amp; Defence</td>\n",
              "      <td>AIR.DE</td>\n",
              "      <td>6.0</td>\n",
              "      <td>126.495 (2021)</td>\n",
              "      <td>1970</td>\n",
              "    </tr>\n",
              "    <tr>\n",
              "      <th>2</th>\n",
              "      <td>NaN</td>\n",
              "      <td>Allianz</td>\n",
              "      <td>Financial Services</td>\n",
              "      <td>ALV.DE</td>\n",
              "      <td>7.1</td>\n",
              "      <td>155,411 (2021)</td>\n",
              "      <td>1890</td>\n",
              "    </tr>\n",
              "    <tr>\n",
              "      <th>3</th>\n",
              "      <td>NaN</td>\n",
              "      <td>BASF</td>\n",
              "      <td>Chemicals</td>\n",
              "      <td>BAS.DE</td>\n",
              "      <td>3.5</td>\n",
              "      <td>111,047 (2021)</td>\n",
              "      <td>1865</td>\n",
              "    </tr>\n",
              "    <tr>\n",
              "      <th>4</th>\n",
              "      <td>NaN</td>\n",
              "      <td>Bayer</td>\n",
              "      <td>Pharmaceuticals</td>\n",
              "      <td>BAYN.DE</td>\n",
              "      <td>4.8</td>\n",
              "      <td>099,637 (2021)</td>\n",
              "      <td>1863</td>\n",
              "    </tr>\n",
              "  </tbody>\n",
              "</table>\n",
              "</div>\n",
              "    <div class=\"colab-df-buttons\">\n",
              "\n",
              "  <div class=\"colab-df-container\">\n",
              "    <button class=\"colab-df-convert\" onclick=\"convertToInteractive('df-b9c94eea-f0fb-4f8d-a299-b65f2e0fc4e7')\"\n",
              "            title=\"Convert this dataframe to an interactive table.\"\n",
              "            style=\"display:none;\">\n",
              "\n",
              "  <svg xmlns=\"http://www.w3.org/2000/svg\" height=\"24px\" viewBox=\"0 -960 960 960\">\n",
              "    <path d=\"M120-120v-720h720v720H120Zm60-500h600v-160H180v160Zm220 220h160v-160H400v160Zm0 220h160v-160H400v160ZM180-400h160v-160H180v160Zm440 0h160v-160H620v160ZM180-180h160v-160H180v160Zm440 0h160v-160H620v160Z\"/>\n",
              "  </svg>\n",
              "    </button>\n",
              "\n",
              "  <style>\n",
              "    .colab-df-container {\n",
              "      display:flex;\n",
              "      gap: 12px;\n",
              "    }\n",
              "\n",
              "    .colab-df-convert {\n",
              "      background-color: #E8F0FE;\n",
              "      border: none;\n",
              "      border-radius: 50%;\n",
              "      cursor: pointer;\n",
              "      display: none;\n",
              "      fill: #1967D2;\n",
              "      height: 32px;\n",
              "      padding: 0 0 0 0;\n",
              "      width: 32px;\n",
              "    }\n",
              "\n",
              "    .colab-df-convert:hover {\n",
              "      background-color: #E2EBFA;\n",
              "      box-shadow: 0px 1px 2px rgba(60, 64, 67, 0.3), 0px 1px 3px 1px rgba(60, 64, 67, 0.15);\n",
              "      fill: #174EA6;\n",
              "    }\n",
              "\n",
              "    .colab-df-buttons div {\n",
              "      margin-bottom: 4px;\n",
              "    }\n",
              "\n",
              "    [theme=dark] .colab-df-convert {\n",
              "      background-color: #3B4455;\n",
              "      fill: #D2E3FC;\n",
              "    }\n",
              "\n",
              "    [theme=dark] .colab-df-convert:hover {\n",
              "      background-color: #434B5C;\n",
              "      box-shadow: 0px 1px 3px 1px rgba(0, 0, 0, 0.15);\n",
              "      filter: drop-shadow(0px 1px 2px rgba(0, 0, 0, 0.3));\n",
              "      fill: #FFFFFF;\n",
              "    }\n",
              "  </style>\n",
              "\n",
              "    <script>\n",
              "      const buttonEl =\n",
              "        document.querySelector('#df-b9c94eea-f0fb-4f8d-a299-b65f2e0fc4e7 button.colab-df-convert');\n",
              "      buttonEl.style.display =\n",
              "        google.colab.kernel.accessAllowed ? 'block' : 'none';\n",
              "\n",
              "      async function convertToInteractive(key) {\n",
              "        const element = document.querySelector('#df-b9c94eea-f0fb-4f8d-a299-b65f2e0fc4e7');\n",
              "        const dataTable =\n",
              "          await google.colab.kernel.invokeFunction('convertToInteractive',\n",
              "                                                    [key], {});\n",
              "        if (!dataTable) return;\n",
              "\n",
              "        const docLinkHtml = 'Like what you see? Visit the ' +\n",
              "          '<a target=\"_blank\" href=https://colab.research.google.com/notebooks/data_table.ipynb>data table notebook</a>'\n",
              "          + ' to learn more about interactive tables.';\n",
              "        element.innerHTML = '';\n",
              "        dataTable['output_type'] = 'display_data';\n",
              "        await google.colab.output.renderOutput(dataTable, element);\n",
              "        const docLink = document.createElement('div');\n",
              "        docLink.innerHTML = docLinkHtml;\n",
              "        element.appendChild(docLink);\n",
              "      }\n",
              "    </script>\n",
              "  </div>\n",
              "\n",
              "\n",
              "<div id=\"df-8938c7b1-061f-4038-b81d-4292d44cb990\">\n",
              "  <button class=\"colab-df-quickchart\" onclick=\"quickchart('df-8938c7b1-061f-4038-b81d-4292d44cb990')\"\n",
              "            title=\"Suggest charts\"\n",
              "            style=\"display:none;\">\n",
              "\n",
              "<svg xmlns=\"http://www.w3.org/2000/svg\" height=\"24px\"viewBox=\"0 0 24 24\"\n",
              "     width=\"24px\">\n",
              "    <g>\n",
              "        <path d=\"M19 3H5c-1.1 0-2 .9-2 2v14c0 1.1.9 2 2 2h14c1.1 0 2-.9 2-2V5c0-1.1-.9-2-2-2zM9 17H7v-7h2v7zm4 0h-2V7h2v10zm4 0h-2v-4h2v4z\"/>\n",
              "    </g>\n",
              "</svg>\n",
              "  </button>\n",
              "\n",
              "<style>\n",
              "  .colab-df-quickchart {\n",
              "      --bg-color: #E8F0FE;\n",
              "      --fill-color: #1967D2;\n",
              "      --hover-bg-color: #E2EBFA;\n",
              "      --hover-fill-color: #174EA6;\n",
              "      --disabled-fill-color: #AAA;\n",
              "      --disabled-bg-color: #DDD;\n",
              "  }\n",
              "\n",
              "  [theme=dark] .colab-df-quickchart {\n",
              "      --bg-color: #3B4455;\n",
              "      --fill-color: #D2E3FC;\n",
              "      --hover-bg-color: #434B5C;\n",
              "      --hover-fill-color: #FFFFFF;\n",
              "      --disabled-bg-color: #3B4455;\n",
              "      --disabled-fill-color: #666;\n",
              "  }\n",
              "\n",
              "  .colab-df-quickchart {\n",
              "    background-color: var(--bg-color);\n",
              "    border: none;\n",
              "    border-radius: 50%;\n",
              "    cursor: pointer;\n",
              "    display: none;\n",
              "    fill: var(--fill-color);\n",
              "    height: 32px;\n",
              "    padding: 0;\n",
              "    width: 32px;\n",
              "  }\n",
              "\n",
              "  .colab-df-quickchart:hover {\n",
              "    background-color: var(--hover-bg-color);\n",
              "    box-shadow: 0 1px 2px rgba(60, 64, 67, 0.3), 0 1px 3px 1px rgba(60, 64, 67, 0.15);\n",
              "    fill: var(--button-hover-fill-color);\n",
              "  }\n",
              "\n",
              "  .colab-df-quickchart-complete:disabled,\n",
              "  .colab-df-quickchart-complete:disabled:hover {\n",
              "    background-color: var(--disabled-bg-color);\n",
              "    fill: var(--disabled-fill-color);\n",
              "    box-shadow: none;\n",
              "  }\n",
              "\n",
              "  .colab-df-spinner {\n",
              "    border: 2px solid var(--fill-color);\n",
              "    border-color: transparent;\n",
              "    border-bottom-color: var(--fill-color);\n",
              "    animation:\n",
              "      spin 1s steps(1) infinite;\n",
              "  }\n",
              "\n",
              "  @keyframes spin {\n",
              "    0% {\n",
              "      border-color: transparent;\n",
              "      border-bottom-color: var(--fill-color);\n",
              "      border-left-color: var(--fill-color);\n",
              "    }\n",
              "    20% {\n",
              "      border-color: transparent;\n",
              "      border-left-color: var(--fill-color);\n",
              "      border-top-color: var(--fill-color);\n",
              "    }\n",
              "    30% {\n",
              "      border-color: transparent;\n",
              "      border-left-color: var(--fill-color);\n",
              "      border-top-color: var(--fill-color);\n",
              "      border-right-color: var(--fill-color);\n",
              "    }\n",
              "    40% {\n",
              "      border-color: transparent;\n",
              "      border-right-color: var(--fill-color);\n",
              "      border-top-color: var(--fill-color);\n",
              "    }\n",
              "    60% {\n",
              "      border-color: transparent;\n",
              "      border-right-color: var(--fill-color);\n",
              "    }\n",
              "    80% {\n",
              "      border-color: transparent;\n",
              "      border-right-color: var(--fill-color);\n",
              "      border-bottom-color: var(--fill-color);\n",
              "    }\n",
              "    90% {\n",
              "      border-color: transparent;\n",
              "      border-bottom-color: var(--fill-color);\n",
              "    }\n",
              "  }\n",
              "</style>\n",
              "\n",
              "  <script>\n",
              "    async function quickchart(key) {\n",
              "      const quickchartButtonEl =\n",
              "        document.querySelector('#' + key + ' button');\n",
              "      quickchartButtonEl.disabled = true;  // To prevent multiple clicks.\n",
              "      quickchartButtonEl.classList.add('colab-df-spinner');\n",
              "      try {\n",
              "        const charts = await google.colab.kernel.invokeFunction(\n",
              "            'suggestCharts', [key], {});\n",
              "      } catch (error) {\n",
              "        console.error('Error during call to suggestCharts:', error);\n",
              "      }\n",
              "      quickchartButtonEl.classList.remove('colab-df-spinner');\n",
              "      quickchartButtonEl.classList.add('colab-df-quickchart-complete');\n",
              "    }\n",
              "    (() => {\n",
              "      let quickchartButtonEl =\n",
              "        document.querySelector('#df-8938c7b1-061f-4038-b81d-4292d44cb990 button');\n",
              "      quickchartButtonEl.style.display =\n",
              "        google.colab.kernel.accessAllowed ? 'block' : 'none';\n",
              "    })();\n",
              "  </script>\n",
              "</div>\n",
              "    </div>\n",
              "  </div>\n"
            ],
            "application/vnd.google.colaboratory.intrinsic+json": {
              "type": "dataframe",
              "variable_name": "data_raw_germ_DAX",
              "summary": "{\n  \"name\": \"data_raw_germ_DAX\",\n  \"rows\": 40,\n  \"fields\": [\n    {\n      \"column\": \"Logo\",\n      \"properties\": {\n        \"dtype\": \"number\",\n        \"std\": null,\n        \"min\": null,\n        \"max\": null,\n        \"num_unique_values\": 0,\n        \"samples\": [],\n        \"semantic_type\": \"\",\n        \"description\": \"\"\n      }\n    },\n    {\n      \"column\": \"Company\",\n      \"properties\": {\n        \"dtype\": \"string\",\n        \"num_unique_values\": 40,\n        \"samples\": [],\n        \"semantic_type\": \"\",\n        \"description\": \"\"\n      }\n    },\n    {\n      \"column\": \"Prime Standard Sector\",\n      \"properties\": {\n        \"dtype\": \"string\",\n        \"num_unique_values\": 23,\n        \"samples\": [],\n        \"semantic_type\": \"\",\n        \"description\": \"\"\n      }\n    },\n    {\n      \"column\": \"Ticker\",\n      \"properties\": {\n        \"dtype\": \"string\",\n        \"num_unique_values\": 40,\n        \"samples\": [],\n        \"semantic_type\": \"\",\n        \"description\": \"\"\n      }\n    },\n    {\n      \"column\": \"Index weighting (%)1\",\n      \"properties\": {\n        \"dtype\": \"number\",\n        \"std\": 2.414231869470733,\n        \"min\": 0.6,\n        \"max\": 10.1,\n        \"num_unique_values\": 25,\n        \"samples\": [],\n        \"semantic_type\": \"\",\n        \"description\": \"\"\n      }\n    },\n    {\n      \"column\": \"Employees\",\n      \"properties\": {\n        \"dtype\": \"string\",\n        \"num_unique_values\": 40,\n        \"samples\": [],\n        \"semantic_type\": \"\",\n        \"description\": \"\"\n      }\n    },\n    {\n      \"column\": \"Founded\",\n      \"properties\": {\n        \"dtype\": \"number\",\n        \"std\": 71,\n        \"min\": 1668,\n        \"max\": 2021,\n        \"num_unique_values\": 35,\n        \"samples\": [],\n        \"semantic_type\": \"\",\n        \"description\": \"\"\n      }\n    }\n  ]\n}"
            }
          },
          "metadata": {},
          "execution_count": 3
        }
      ],
      "source": [
        "data_raw_germ_DAX = data_raw_germ_DAX[0]\n",
        "data_raw_germ_DAX.head()"
      ]
    },
    {
      "cell_type": "code",
      "execution_count": null,
      "id": "45ca0feb",
      "metadata": {
        "id": "45ca0feb"
      },
      "outputs": [],
      "source": [
        "data_raw_germ_DAX = data_raw_germ_DAX.sort_values('Index weighting (%)1', ascending=False).iloc[:30]"
      ]
    },
    {
      "cell_type": "code",
      "execution_count": null,
      "id": "00791ad2",
      "metadata": {
        "id": "00791ad2"
      },
      "outputs": [],
      "source": [
        "stocks_DAX = {}\n",
        "for index, row in data_raw_germ_DAX.iterrows():\n",
        "    ticker = str(row['Ticker'])\n",
        "    ticker_dax_data = yf.download(ticker, start=\"2023-01-01\", end=\"2023-12-31\", progress=False)\n",
        "    if ticker_dax_data.shape[0] != 0:\n",
        "        stocks_DAX[ticker] = ticker_dax_data"
      ]
    },
    {
      "cell_type": "code",
      "execution_count": null,
      "id": "8a4b7332",
      "metadata": {
        "id": "8a4b7332"
      },
      "outputs": [],
      "source": [
        "data_raw_GB_FTSE100 = pd.read_html('https://en.wikipedia.org/wiki/FTSE_100_Index', match='Ticker')"
      ]
    },
    {
      "cell_type": "code",
      "execution_count": null,
      "id": "713d2a4a",
      "metadata": {
        "scrolled": true,
        "id": "713d2a4a",
        "outputId": "78e0ef3b-4480-4200-9f01-e701e5448f6a",
        "colab": {
          "base_uri": "https://localhost:8080/",
          "height": 206
        }
      },
      "outputs": [
        {
          "output_type": "execute_result",
          "data": {
            "text/plain": [
              "              Company  Ticker  \\\n",
              "0                  3i   III.L   \n",
              "1       Admiral Group   ADM.L   \n",
              "2       Airtel Africa   AAF.L   \n",
              "3  Anglo American plc   AAL.L   \n",
              "4     Antofagasta plc  ANTO.L   \n",
              "\n",
              "  FTSE industry classification benchmark sector[18]  \n",
              "0                                Financial services  \n",
              "1                                         Insurance  \n",
              "2                       Telecommunications services  \n",
              "3                                            Mining  \n",
              "4                                            Mining  "
            ],
            "text/html": [
              "\n",
              "  <div id=\"df-cc781dc4-f735-4efd-a304-c7aec31d4fdb\" class=\"colab-df-container\">\n",
              "    <div>\n",
              "<style scoped>\n",
              "    .dataframe tbody tr th:only-of-type {\n",
              "        vertical-align: middle;\n",
              "    }\n",
              "\n",
              "    .dataframe tbody tr th {\n",
              "        vertical-align: top;\n",
              "    }\n",
              "\n",
              "    .dataframe thead th {\n",
              "        text-align: right;\n",
              "    }\n",
              "</style>\n",
              "<table border=\"1\" class=\"dataframe\">\n",
              "  <thead>\n",
              "    <tr style=\"text-align: right;\">\n",
              "      <th></th>\n",
              "      <th>Company</th>\n",
              "      <th>Ticker</th>\n",
              "      <th>FTSE industry classification benchmark sector[18]</th>\n",
              "    </tr>\n",
              "  </thead>\n",
              "  <tbody>\n",
              "    <tr>\n",
              "      <th>0</th>\n",
              "      <td>3i</td>\n",
              "      <td>III.L</td>\n",
              "      <td>Financial services</td>\n",
              "    </tr>\n",
              "    <tr>\n",
              "      <th>1</th>\n",
              "      <td>Admiral Group</td>\n",
              "      <td>ADM.L</td>\n",
              "      <td>Insurance</td>\n",
              "    </tr>\n",
              "    <tr>\n",
              "      <th>2</th>\n",
              "      <td>Airtel Africa</td>\n",
              "      <td>AAF.L</td>\n",
              "      <td>Telecommunications services</td>\n",
              "    </tr>\n",
              "    <tr>\n",
              "      <th>3</th>\n",
              "      <td>Anglo American plc</td>\n",
              "      <td>AAL.L</td>\n",
              "      <td>Mining</td>\n",
              "    </tr>\n",
              "    <tr>\n",
              "      <th>4</th>\n",
              "      <td>Antofagasta plc</td>\n",
              "      <td>ANTO.L</td>\n",
              "      <td>Mining</td>\n",
              "    </tr>\n",
              "  </tbody>\n",
              "</table>\n",
              "</div>\n",
              "    <div class=\"colab-df-buttons\">\n",
              "\n",
              "  <div class=\"colab-df-container\">\n",
              "    <button class=\"colab-df-convert\" onclick=\"convertToInteractive('df-cc781dc4-f735-4efd-a304-c7aec31d4fdb')\"\n",
              "            title=\"Convert this dataframe to an interactive table.\"\n",
              "            style=\"display:none;\">\n",
              "\n",
              "  <svg xmlns=\"http://www.w3.org/2000/svg\" height=\"24px\" viewBox=\"0 -960 960 960\">\n",
              "    <path d=\"M120-120v-720h720v720H120Zm60-500h600v-160H180v160Zm220 220h160v-160H400v160Zm0 220h160v-160H400v160ZM180-400h160v-160H180v160Zm440 0h160v-160H620v160ZM180-180h160v-160H180v160Zm440 0h160v-160H620v160Z\"/>\n",
              "  </svg>\n",
              "    </button>\n",
              "\n",
              "  <style>\n",
              "    .colab-df-container {\n",
              "      display:flex;\n",
              "      gap: 12px;\n",
              "    }\n",
              "\n",
              "    .colab-df-convert {\n",
              "      background-color: #E8F0FE;\n",
              "      border: none;\n",
              "      border-radius: 50%;\n",
              "      cursor: pointer;\n",
              "      display: none;\n",
              "      fill: #1967D2;\n",
              "      height: 32px;\n",
              "      padding: 0 0 0 0;\n",
              "      width: 32px;\n",
              "    }\n",
              "\n",
              "    .colab-df-convert:hover {\n",
              "      background-color: #E2EBFA;\n",
              "      box-shadow: 0px 1px 2px rgba(60, 64, 67, 0.3), 0px 1px 3px 1px rgba(60, 64, 67, 0.15);\n",
              "      fill: #174EA6;\n",
              "    }\n",
              "\n",
              "    .colab-df-buttons div {\n",
              "      margin-bottom: 4px;\n",
              "    }\n",
              "\n",
              "    [theme=dark] .colab-df-convert {\n",
              "      background-color: #3B4455;\n",
              "      fill: #D2E3FC;\n",
              "    }\n",
              "\n",
              "    [theme=dark] .colab-df-convert:hover {\n",
              "      background-color: #434B5C;\n",
              "      box-shadow: 0px 1px 3px 1px rgba(0, 0, 0, 0.15);\n",
              "      filter: drop-shadow(0px 1px 2px rgba(0, 0, 0, 0.3));\n",
              "      fill: #FFFFFF;\n",
              "    }\n",
              "  </style>\n",
              "\n",
              "    <script>\n",
              "      const buttonEl =\n",
              "        document.querySelector('#df-cc781dc4-f735-4efd-a304-c7aec31d4fdb button.colab-df-convert');\n",
              "      buttonEl.style.display =\n",
              "        google.colab.kernel.accessAllowed ? 'block' : 'none';\n",
              "\n",
              "      async function convertToInteractive(key) {\n",
              "        const element = document.querySelector('#df-cc781dc4-f735-4efd-a304-c7aec31d4fdb');\n",
              "        const dataTable =\n",
              "          await google.colab.kernel.invokeFunction('convertToInteractive',\n",
              "                                                    [key], {});\n",
              "        if (!dataTable) return;\n",
              "\n",
              "        const docLinkHtml = 'Like what you see? Visit the ' +\n",
              "          '<a target=\"_blank\" href=https://colab.research.google.com/notebooks/data_table.ipynb>data table notebook</a>'\n",
              "          + ' to learn more about interactive tables.';\n",
              "        element.innerHTML = '';\n",
              "        dataTable['output_type'] = 'display_data';\n",
              "        await google.colab.output.renderOutput(dataTable, element);\n",
              "        const docLink = document.createElement('div');\n",
              "        docLink.innerHTML = docLinkHtml;\n",
              "        element.appendChild(docLink);\n",
              "      }\n",
              "    </script>\n",
              "  </div>\n",
              "\n",
              "\n",
              "<div id=\"df-72c5c543-107e-4aa5-ade6-1ee385d2762b\">\n",
              "  <button class=\"colab-df-quickchart\" onclick=\"quickchart('df-72c5c543-107e-4aa5-ade6-1ee385d2762b')\"\n",
              "            title=\"Suggest charts\"\n",
              "            style=\"display:none;\">\n",
              "\n",
              "<svg xmlns=\"http://www.w3.org/2000/svg\" height=\"24px\"viewBox=\"0 0 24 24\"\n",
              "     width=\"24px\">\n",
              "    <g>\n",
              "        <path d=\"M19 3H5c-1.1 0-2 .9-2 2v14c0 1.1.9 2 2 2h14c1.1 0 2-.9 2-2V5c0-1.1-.9-2-2-2zM9 17H7v-7h2v7zm4 0h-2V7h2v10zm4 0h-2v-4h2v4z\"/>\n",
              "    </g>\n",
              "</svg>\n",
              "  </button>\n",
              "\n",
              "<style>\n",
              "  .colab-df-quickchart {\n",
              "      --bg-color: #E8F0FE;\n",
              "      --fill-color: #1967D2;\n",
              "      --hover-bg-color: #E2EBFA;\n",
              "      --hover-fill-color: #174EA6;\n",
              "      --disabled-fill-color: #AAA;\n",
              "      --disabled-bg-color: #DDD;\n",
              "  }\n",
              "\n",
              "  [theme=dark] .colab-df-quickchart {\n",
              "      --bg-color: #3B4455;\n",
              "      --fill-color: #D2E3FC;\n",
              "      --hover-bg-color: #434B5C;\n",
              "      --hover-fill-color: #FFFFFF;\n",
              "      --disabled-bg-color: #3B4455;\n",
              "      --disabled-fill-color: #666;\n",
              "  }\n",
              "\n",
              "  .colab-df-quickchart {\n",
              "    background-color: var(--bg-color);\n",
              "    border: none;\n",
              "    border-radius: 50%;\n",
              "    cursor: pointer;\n",
              "    display: none;\n",
              "    fill: var(--fill-color);\n",
              "    height: 32px;\n",
              "    padding: 0;\n",
              "    width: 32px;\n",
              "  }\n",
              "\n",
              "  .colab-df-quickchart:hover {\n",
              "    background-color: var(--hover-bg-color);\n",
              "    box-shadow: 0 1px 2px rgba(60, 64, 67, 0.3), 0 1px 3px 1px rgba(60, 64, 67, 0.15);\n",
              "    fill: var(--button-hover-fill-color);\n",
              "  }\n",
              "\n",
              "  .colab-df-quickchart-complete:disabled,\n",
              "  .colab-df-quickchart-complete:disabled:hover {\n",
              "    background-color: var(--disabled-bg-color);\n",
              "    fill: var(--disabled-fill-color);\n",
              "    box-shadow: none;\n",
              "  }\n",
              "\n",
              "  .colab-df-spinner {\n",
              "    border: 2px solid var(--fill-color);\n",
              "    border-color: transparent;\n",
              "    border-bottom-color: var(--fill-color);\n",
              "    animation:\n",
              "      spin 1s steps(1) infinite;\n",
              "  }\n",
              "\n",
              "  @keyframes spin {\n",
              "    0% {\n",
              "      border-color: transparent;\n",
              "      border-bottom-color: var(--fill-color);\n",
              "      border-left-color: var(--fill-color);\n",
              "    }\n",
              "    20% {\n",
              "      border-color: transparent;\n",
              "      border-left-color: var(--fill-color);\n",
              "      border-top-color: var(--fill-color);\n",
              "    }\n",
              "    30% {\n",
              "      border-color: transparent;\n",
              "      border-left-color: var(--fill-color);\n",
              "      border-top-color: var(--fill-color);\n",
              "      border-right-color: var(--fill-color);\n",
              "    }\n",
              "    40% {\n",
              "      border-color: transparent;\n",
              "      border-right-color: var(--fill-color);\n",
              "      border-top-color: var(--fill-color);\n",
              "    }\n",
              "    60% {\n",
              "      border-color: transparent;\n",
              "      border-right-color: var(--fill-color);\n",
              "    }\n",
              "    80% {\n",
              "      border-color: transparent;\n",
              "      border-right-color: var(--fill-color);\n",
              "      border-bottom-color: var(--fill-color);\n",
              "    }\n",
              "    90% {\n",
              "      border-color: transparent;\n",
              "      border-bottom-color: var(--fill-color);\n",
              "    }\n",
              "  }\n",
              "</style>\n",
              "\n",
              "  <script>\n",
              "    async function quickchart(key) {\n",
              "      const quickchartButtonEl =\n",
              "        document.querySelector('#' + key + ' button');\n",
              "      quickchartButtonEl.disabled = true;  // To prevent multiple clicks.\n",
              "      quickchartButtonEl.classList.add('colab-df-spinner');\n",
              "      try {\n",
              "        const charts = await google.colab.kernel.invokeFunction(\n",
              "            'suggestCharts', [key], {});\n",
              "      } catch (error) {\n",
              "        console.error('Error during call to suggestCharts:', error);\n",
              "      }\n",
              "      quickchartButtonEl.classList.remove('colab-df-spinner');\n",
              "      quickchartButtonEl.classList.add('colab-df-quickchart-complete');\n",
              "    }\n",
              "    (() => {\n",
              "      let quickchartButtonEl =\n",
              "        document.querySelector('#df-72c5c543-107e-4aa5-ade6-1ee385d2762b button');\n",
              "      quickchartButtonEl.style.display =\n",
              "        google.colab.kernel.accessAllowed ? 'block' : 'none';\n",
              "    })();\n",
              "  </script>\n",
              "</div>\n",
              "    </div>\n",
              "  </div>\n"
            ],
            "application/vnd.google.colaboratory.intrinsic+json": {
              "type": "dataframe",
              "variable_name": "data_raw_GB_FTSE100",
              "summary": "{\n  \"name\": \"data_raw_GB_FTSE100\",\n  \"rows\": 100,\n  \"fields\": [\n    {\n      \"column\": \"Company\",\n      \"properties\": {\n        \"dtype\": \"string\",\n        \"num_unique_values\": 100,\n        \"samples\": [\n          \"DS Smith\",\n          \"Legal & General\",\n          \"RELX\"\n        ],\n        \"semantic_type\": \"\",\n        \"description\": \"\"\n      }\n    },\n    {\n      \"column\": \"Ticker\",\n      \"properties\": {\n        \"dtype\": \"string\",\n        \"num_unique_values\": 100,\n        \"samples\": [\n          \"SMDS.L\",\n          \"LGEN.L\",\n          \"REL.L\"\n        ],\n        \"semantic_type\": \"\",\n        \"description\": \"\"\n      }\n    },\n    {\n      \"column\": \"FTSE industry classification benchmark sector[18]\",\n      \"properties\": {\n        \"dtype\": \"category\",\n        \"num_unique_values\": 39,\n        \"samples\": [\n          \"General industrials\",\n          \"Mobile telecommunications\",\n          \"Support services\"\n        ],\n        \"semantic_type\": \"\",\n        \"description\": \"\"\n      }\n    }\n  ]\n}"
            }
          },
          "metadata": {},
          "execution_count": 7
        }
      ],
      "source": [
        "data_raw_GB_FTSE100 = data_raw_GB_FTSE100[0]\n",
        "data_raw_GB_FTSE100['Ticker'] = data_raw_GB_FTSE100['Ticker'] + '.L'\n",
        "data_raw_GB_FTSE100.head()"
      ]
    },
    {
      "cell_type": "code",
      "execution_count": null,
      "id": "e965af27",
      "metadata": {
        "id": "e965af27",
        "outputId": "1ac7052e-3805-438a-f2bd-9a68674c1d08",
        "colab": {
          "base_uri": "https://localhost:8080/"
        }
      },
      "outputs": [
        {
          "output_type": "stream",
          "name": "stderr",
          "text": [
            "ERROR:yfinance:\n",
            "1 Failed download:\n",
            "ERROR:yfinance:['AV..L']: Exception('%ticker%: No timezone found, symbol may be delisted')\n",
            "ERROR:yfinance:\n",
            "1 Failed download:\n",
            "ERROR:yfinance:['BA..L']: Exception('%ticker%: No timezone found, symbol may be delisted')\n",
            "ERROR:yfinance:\n",
            "1 Failed download:\n",
            "ERROR:yfinance:['BP..L']: Exception('%ticker%: No timezone found, symbol may be delisted')\n",
            "ERROR:yfinance:\n",
            "1 Failed download:\n",
            "ERROR:yfinance:['BT.A.L']: Exception('%ticker%: No timezone found, symbol may be delisted')\n",
            "ERROR:yfinance:\n",
            "1 Failed download:\n",
            "ERROR:yfinance:['JD..L']: Exception('%ticker%: No timezone found, symbol may be delisted')\n",
            "ERROR:yfinance:\n",
            "1 Failed download:\n",
            "ERROR:yfinance:['NG..L']: Exception('%ticker%: No timezone found, symbol may be delisted')\n",
            "ERROR:yfinance:\n",
            "1 Failed download:\n",
            "ERROR:yfinance:['RR..L']: Exception('%ticker%: No timezone found, symbol may be delisted')\n",
            "ERROR:yfinance:\n",
            "1 Failed download:\n",
            "ERROR:yfinance:['SN..L']: Exception('%ticker%: No timezone found, symbol may be delisted')\n",
            "ERROR:yfinance:\n",
            "1 Failed download:\n",
            "ERROR:yfinance:['TW..L']: Exception('%ticker%: No timezone found, symbol may be delisted')\n",
            "ERROR:yfinance:\n",
            "1 Failed download:\n",
            "ERROR:yfinance:['UU..L']: Exception('%ticker%: No timezone found, symbol may be delisted')\n"
          ]
        }
      ],
      "source": [
        "stocks_FTSE100 = {}\n",
        "for index, row in data_raw_GB_FTSE100.iterrows():\n",
        "    ticker = str(row['Ticker'])\n",
        "    ticker_ftse_data = yf.download(ticker, start=\"2023-01-01\", end=\"2023-12-31\", progress=False)\n",
        "    if ticker_ftse_data.shape[0] != 0:\n",
        "        stocks_FTSE100[ticker] = ticker_ftse_data\n"
      ]
    },
    {
      "cell_type": "code",
      "execution_count": null,
      "id": "92ac1877",
      "metadata": {
        "id": "92ac1877"
      },
      "outputs": [],
      "source": [
        "data_raw_Fr_CAC40 = pd.read_html('https://en.wikipedia.org/wiki/CAC_40', match='Ticker' )"
      ]
    },
    {
      "cell_type": "code",
      "execution_count": null,
      "id": "dbdacecb",
      "metadata": {
        "id": "dbdacecb",
        "outputId": "de6471aa-a4fc-4c17-c6b1-d26ef2dc993e",
        "colab": {
          "base_uri": "https://localhost:8080/",
          "height": 206
        }
      },
      "outputs": [
        {
          "output_type": "execute_result",
          "data": {
            "text/plain": [
              "         Company              Sector        GICS Sub-Industry  Ticker\n",
              "0    Air Liquide     Basic Materials         Industrial Gases   AI.PA\n",
              "1         Airbus         Industrials      Aerospace & Defense  AIR.PA\n",
              "2         Alstom         Industrials           Rail Transport  ALO.PA\n",
              "3  ArcelorMittal     Basic Materials                    Steel   MT.AS\n",
              "4            AXA  Financial Services  Life & Health Insurance   CS.PA"
            ],
            "text/html": [
              "\n",
              "  <div id=\"df-04505289-54b0-4127-9ff7-7f12750e482e\" class=\"colab-df-container\">\n",
              "    <div>\n",
              "<style scoped>\n",
              "    .dataframe tbody tr th:only-of-type {\n",
              "        vertical-align: middle;\n",
              "    }\n",
              "\n",
              "    .dataframe tbody tr th {\n",
              "        vertical-align: top;\n",
              "    }\n",
              "\n",
              "    .dataframe thead th {\n",
              "        text-align: right;\n",
              "    }\n",
              "</style>\n",
              "<table border=\"1\" class=\"dataframe\">\n",
              "  <thead>\n",
              "    <tr style=\"text-align: right;\">\n",
              "      <th></th>\n",
              "      <th>Company</th>\n",
              "      <th>Sector</th>\n",
              "      <th>GICS Sub-Industry</th>\n",
              "      <th>Ticker</th>\n",
              "    </tr>\n",
              "  </thead>\n",
              "  <tbody>\n",
              "    <tr>\n",
              "      <th>0</th>\n",
              "      <td>Air Liquide</td>\n",
              "      <td>Basic Materials</td>\n",
              "      <td>Industrial Gases</td>\n",
              "      <td>AI.PA</td>\n",
              "    </tr>\n",
              "    <tr>\n",
              "      <th>1</th>\n",
              "      <td>Airbus</td>\n",
              "      <td>Industrials</td>\n",
              "      <td>Aerospace &amp; Defense</td>\n",
              "      <td>AIR.PA</td>\n",
              "    </tr>\n",
              "    <tr>\n",
              "      <th>2</th>\n",
              "      <td>Alstom</td>\n",
              "      <td>Industrials</td>\n",
              "      <td>Rail Transport</td>\n",
              "      <td>ALO.PA</td>\n",
              "    </tr>\n",
              "    <tr>\n",
              "      <th>3</th>\n",
              "      <td>ArcelorMittal</td>\n",
              "      <td>Basic Materials</td>\n",
              "      <td>Steel</td>\n",
              "      <td>MT.AS</td>\n",
              "    </tr>\n",
              "    <tr>\n",
              "      <th>4</th>\n",
              "      <td>AXA</td>\n",
              "      <td>Financial Services</td>\n",
              "      <td>Life &amp; Health Insurance</td>\n",
              "      <td>CS.PA</td>\n",
              "    </tr>\n",
              "  </tbody>\n",
              "</table>\n",
              "</div>\n",
              "    <div class=\"colab-df-buttons\">\n",
              "\n",
              "  <div class=\"colab-df-container\">\n",
              "    <button class=\"colab-df-convert\" onclick=\"convertToInteractive('df-04505289-54b0-4127-9ff7-7f12750e482e')\"\n",
              "            title=\"Convert this dataframe to an interactive table.\"\n",
              "            style=\"display:none;\">\n",
              "\n",
              "  <svg xmlns=\"http://www.w3.org/2000/svg\" height=\"24px\" viewBox=\"0 -960 960 960\">\n",
              "    <path d=\"M120-120v-720h720v720H120Zm60-500h600v-160H180v160Zm220 220h160v-160H400v160Zm0 220h160v-160H400v160ZM180-400h160v-160H180v160Zm440 0h160v-160H620v160ZM180-180h160v-160H180v160Zm440 0h160v-160H620v160Z\"/>\n",
              "  </svg>\n",
              "    </button>\n",
              "\n",
              "  <style>\n",
              "    .colab-df-container {\n",
              "      display:flex;\n",
              "      gap: 12px;\n",
              "    }\n",
              "\n",
              "    .colab-df-convert {\n",
              "      background-color: #E8F0FE;\n",
              "      border: none;\n",
              "      border-radius: 50%;\n",
              "      cursor: pointer;\n",
              "      display: none;\n",
              "      fill: #1967D2;\n",
              "      height: 32px;\n",
              "      padding: 0 0 0 0;\n",
              "      width: 32px;\n",
              "    }\n",
              "\n",
              "    .colab-df-convert:hover {\n",
              "      background-color: #E2EBFA;\n",
              "      box-shadow: 0px 1px 2px rgba(60, 64, 67, 0.3), 0px 1px 3px 1px rgba(60, 64, 67, 0.15);\n",
              "      fill: #174EA6;\n",
              "    }\n",
              "\n",
              "    .colab-df-buttons div {\n",
              "      margin-bottom: 4px;\n",
              "    }\n",
              "\n",
              "    [theme=dark] .colab-df-convert {\n",
              "      background-color: #3B4455;\n",
              "      fill: #D2E3FC;\n",
              "    }\n",
              "\n",
              "    [theme=dark] .colab-df-convert:hover {\n",
              "      background-color: #434B5C;\n",
              "      box-shadow: 0px 1px 3px 1px rgba(0, 0, 0, 0.15);\n",
              "      filter: drop-shadow(0px 1px 2px rgba(0, 0, 0, 0.3));\n",
              "      fill: #FFFFFF;\n",
              "    }\n",
              "  </style>\n",
              "\n",
              "    <script>\n",
              "      const buttonEl =\n",
              "        document.querySelector('#df-04505289-54b0-4127-9ff7-7f12750e482e button.colab-df-convert');\n",
              "      buttonEl.style.display =\n",
              "        google.colab.kernel.accessAllowed ? 'block' : 'none';\n",
              "\n",
              "      async function convertToInteractive(key) {\n",
              "        const element = document.querySelector('#df-04505289-54b0-4127-9ff7-7f12750e482e');\n",
              "        const dataTable =\n",
              "          await google.colab.kernel.invokeFunction('convertToInteractive',\n",
              "                                                    [key], {});\n",
              "        if (!dataTable) return;\n",
              "\n",
              "        const docLinkHtml = 'Like what you see? Visit the ' +\n",
              "          '<a target=\"_blank\" href=https://colab.research.google.com/notebooks/data_table.ipynb>data table notebook</a>'\n",
              "          + ' to learn more about interactive tables.';\n",
              "        element.innerHTML = '';\n",
              "        dataTable['output_type'] = 'display_data';\n",
              "        await google.colab.output.renderOutput(dataTable, element);\n",
              "        const docLink = document.createElement('div');\n",
              "        docLink.innerHTML = docLinkHtml;\n",
              "        element.appendChild(docLink);\n",
              "      }\n",
              "    </script>\n",
              "  </div>\n",
              "\n",
              "\n",
              "<div id=\"df-39c768a9-fb37-4136-b212-e6469eb07e79\">\n",
              "  <button class=\"colab-df-quickchart\" onclick=\"quickchart('df-39c768a9-fb37-4136-b212-e6469eb07e79')\"\n",
              "            title=\"Suggest charts\"\n",
              "            style=\"display:none;\">\n",
              "\n",
              "<svg xmlns=\"http://www.w3.org/2000/svg\" height=\"24px\"viewBox=\"0 0 24 24\"\n",
              "     width=\"24px\">\n",
              "    <g>\n",
              "        <path d=\"M19 3H5c-1.1 0-2 .9-2 2v14c0 1.1.9 2 2 2h14c1.1 0 2-.9 2-2V5c0-1.1-.9-2-2-2zM9 17H7v-7h2v7zm4 0h-2V7h2v10zm4 0h-2v-4h2v4z\"/>\n",
              "    </g>\n",
              "</svg>\n",
              "  </button>\n",
              "\n",
              "<style>\n",
              "  .colab-df-quickchart {\n",
              "      --bg-color: #E8F0FE;\n",
              "      --fill-color: #1967D2;\n",
              "      --hover-bg-color: #E2EBFA;\n",
              "      --hover-fill-color: #174EA6;\n",
              "      --disabled-fill-color: #AAA;\n",
              "      --disabled-bg-color: #DDD;\n",
              "  }\n",
              "\n",
              "  [theme=dark] .colab-df-quickchart {\n",
              "      --bg-color: #3B4455;\n",
              "      --fill-color: #D2E3FC;\n",
              "      --hover-bg-color: #434B5C;\n",
              "      --hover-fill-color: #FFFFFF;\n",
              "      --disabled-bg-color: #3B4455;\n",
              "      --disabled-fill-color: #666;\n",
              "  }\n",
              "\n",
              "  .colab-df-quickchart {\n",
              "    background-color: var(--bg-color);\n",
              "    border: none;\n",
              "    border-radius: 50%;\n",
              "    cursor: pointer;\n",
              "    display: none;\n",
              "    fill: var(--fill-color);\n",
              "    height: 32px;\n",
              "    padding: 0;\n",
              "    width: 32px;\n",
              "  }\n",
              "\n",
              "  .colab-df-quickchart:hover {\n",
              "    background-color: var(--hover-bg-color);\n",
              "    box-shadow: 0 1px 2px rgba(60, 64, 67, 0.3), 0 1px 3px 1px rgba(60, 64, 67, 0.15);\n",
              "    fill: var(--button-hover-fill-color);\n",
              "  }\n",
              "\n",
              "  .colab-df-quickchart-complete:disabled,\n",
              "  .colab-df-quickchart-complete:disabled:hover {\n",
              "    background-color: var(--disabled-bg-color);\n",
              "    fill: var(--disabled-fill-color);\n",
              "    box-shadow: none;\n",
              "  }\n",
              "\n",
              "  .colab-df-spinner {\n",
              "    border: 2px solid var(--fill-color);\n",
              "    border-color: transparent;\n",
              "    border-bottom-color: var(--fill-color);\n",
              "    animation:\n",
              "      spin 1s steps(1) infinite;\n",
              "  }\n",
              "\n",
              "  @keyframes spin {\n",
              "    0% {\n",
              "      border-color: transparent;\n",
              "      border-bottom-color: var(--fill-color);\n",
              "      border-left-color: var(--fill-color);\n",
              "    }\n",
              "    20% {\n",
              "      border-color: transparent;\n",
              "      border-left-color: var(--fill-color);\n",
              "      border-top-color: var(--fill-color);\n",
              "    }\n",
              "    30% {\n",
              "      border-color: transparent;\n",
              "      border-left-color: var(--fill-color);\n",
              "      border-top-color: var(--fill-color);\n",
              "      border-right-color: var(--fill-color);\n",
              "    }\n",
              "    40% {\n",
              "      border-color: transparent;\n",
              "      border-right-color: var(--fill-color);\n",
              "      border-top-color: var(--fill-color);\n",
              "    }\n",
              "    60% {\n",
              "      border-color: transparent;\n",
              "      border-right-color: var(--fill-color);\n",
              "    }\n",
              "    80% {\n",
              "      border-color: transparent;\n",
              "      border-right-color: var(--fill-color);\n",
              "      border-bottom-color: var(--fill-color);\n",
              "    }\n",
              "    90% {\n",
              "      border-color: transparent;\n",
              "      border-bottom-color: var(--fill-color);\n",
              "    }\n",
              "  }\n",
              "</style>\n",
              "\n",
              "  <script>\n",
              "    async function quickchart(key) {\n",
              "      const quickchartButtonEl =\n",
              "        document.querySelector('#' + key + ' button');\n",
              "      quickchartButtonEl.disabled = true;  // To prevent multiple clicks.\n",
              "      quickchartButtonEl.classList.add('colab-df-spinner');\n",
              "      try {\n",
              "        const charts = await google.colab.kernel.invokeFunction(\n",
              "            'suggestCharts', [key], {});\n",
              "      } catch (error) {\n",
              "        console.error('Error during call to suggestCharts:', error);\n",
              "      }\n",
              "      quickchartButtonEl.classList.remove('colab-df-spinner');\n",
              "      quickchartButtonEl.classList.add('colab-df-quickchart-complete');\n",
              "    }\n",
              "    (() => {\n",
              "      let quickchartButtonEl =\n",
              "        document.querySelector('#df-39c768a9-fb37-4136-b212-e6469eb07e79 button');\n",
              "      quickchartButtonEl.style.display =\n",
              "        google.colab.kernel.accessAllowed ? 'block' : 'none';\n",
              "    })();\n",
              "  </script>\n",
              "</div>\n",
              "    </div>\n",
              "  </div>\n"
            ],
            "application/vnd.google.colaboratory.intrinsic+json": {
              "type": "dataframe",
              "variable_name": "data_raw_Fr_CAC40",
              "summary": "{\n  \"name\": \"data_raw_Fr_CAC40\",\n  \"rows\": 40,\n  \"fields\": [\n    {\n      \"column\": \"Company\",\n      \"properties\": {\n        \"dtype\": \"string\",\n        \"num_unique_values\": 40,\n        \"samples\": [\n          \"Legrand\",\n          \"Herm\\u00e8s\",\n          \"Eurofins Scientific\"\n        ],\n        \"semantic_type\": \"\",\n        \"description\": \"\"\n      }\n    },\n    {\n      \"column\": \"Sector\",\n      \"properties\": {\n        \"dtype\": \"category\",\n        \"num_unique_values\": 11,\n        \"samples\": [\n          \"Utilities\",\n          \"Basic Materials\",\n          \"Energy\"\n        ],\n        \"semantic_type\": \"\",\n        \"description\": \"\"\n      }\n    },\n    {\n      \"column\": \"GICS Sub-Industry\",\n      \"properties\": {\n        \"dtype\": \"string\",\n        \"num_unique_values\": 31,\n        \"samples\": [\n          \"Integrated Oil & Gas\",\n          \"Biotechnologies\",\n          \"Building Products\"\n        ],\n        \"semantic_type\": \"\",\n        \"description\": \"\"\n      }\n    },\n    {\n      \"column\": \"Ticker\",\n      \"properties\": {\n        \"dtype\": \"string\",\n        \"num_unique_values\": 40,\n        \"samples\": [\n          \"LR.PA\",\n          \"RMS.PA\",\n          \"ERF.PA\"\n        ],\n        \"semantic_type\": \"\",\n        \"description\": \"\"\n      }\n    }\n  ]\n}"
            }
          },
          "metadata": {},
          "execution_count": 10
        }
      ],
      "source": [
        "data_raw_Fr_CAC40 = data_raw_Fr_CAC40[0]\n",
        "data_raw_Fr_CAC40.head()"
      ]
    },
    {
      "cell_type": "code",
      "execution_count": null,
      "id": "476c8d98",
      "metadata": {
        "id": "476c8d98"
      },
      "outputs": [],
      "source": [
        "stocks_CAC40 = {}\n",
        "for index, row in data_raw_Fr_CAC40.iterrows():\n",
        "    ticker = str(row['Ticker'])\n",
        "    ticker_cac_data = yf.download(ticker, start=\"2023-01-01\", end=\"2023-12-31\", progress=False)\n",
        "    if ticker_cac_data.shape[0] != 0:\n",
        "        stocks_CAC40[ticker] = ticker_cac_data"
      ]
    },
    {
      "cell_type": "markdown",
      "id": "ce7382b9",
      "metadata": {
        "id": "ce7382b9"
      },
      "source": [
        "Скачали данные об акциях из индексов за 2023 год"
      ]
    },
    {
      "cell_type": "code",
      "source": [
        "#Германия"
      ],
      "metadata": {
        "id": "eLo_GDM0PXI6"
      },
      "id": "eLo_GDM0PXI6",
      "execution_count": null,
      "outputs": []
    },
    {
      "cell_type": "code",
      "execution_count": null,
      "id": "2dff4454",
      "metadata": {
        "id": "2dff4454"
      },
      "outputs": [],
      "source": [
        "DAX_returns_dict=dict()\n",
        "\n",
        "for ticker in stocks_DAX.keys():\n",
        "    DAX_returns_dict[ticker] = np.log(stocks_DAX[ticker]['Close'] / stocks_DAX[ticker]['Close'].shift(1))\n",
        "dax_DF_returns = pd.DataFrame(DAX_returns_dict).dropna()"
      ]
    },
    {
      "cell_type": "code",
      "source": [
        "#Франция"
      ],
      "metadata": {
        "id": "cNWJ1rwJPUS9"
      },
      "id": "cNWJ1rwJPUS9",
      "execution_count": null,
      "outputs": []
    },
    {
      "cell_type": "code",
      "execution_count": null,
      "id": "f17b584f",
      "metadata": {
        "id": "f17b584f"
      },
      "outputs": [],
      "source": [
        "CAC_returns_dict=dict()\n",
        "\n",
        "for ticker in stocks_CAC40.keys():\n",
        "    CAC_returns_dict[ticker] = np.log(stocks_CAC40[ticker]['Close'] / stocks_CAC40[ticker]['Close'].shift(1))\n",
        "CAC_DF_returns = pd.DataFrame(CAC_returns_dict).dropna()"
      ]
    },
    {
      "cell_type": "code",
      "source": [
        "#Англия"
      ],
      "metadata": {
        "id": "uF2w8vIZPUCm"
      },
      "id": "uF2w8vIZPUCm",
      "execution_count": null,
      "outputs": []
    },
    {
      "cell_type": "code",
      "execution_count": null,
      "id": "0e9c2e72",
      "metadata": {
        "id": "0e9c2e72"
      },
      "outputs": [],
      "source": [
        "FTSE_returns_dict=dict()\n",
        "\n",
        "for ticker in stocks_FTSE100.keys():\n",
        "    FTSE_returns_dict[ticker] = np.log(stocks_FTSE100[ticker]['Close'] / stocks_FTSE100[ticker]['Close'].shift(1))\n",
        "FTSE_DF_returns = pd.DataFrame(FTSE_returns_dict).dropna()"
      ]
    },
    {
      "cell_type": "code",
      "source": [
        "from src.numerical_characteristics import sign_similarity"
      ],
      "metadata": {
        "id": "fGSGF2d74k7i"
      },
      "id": "fGSGF2d74k7i",
      "execution_count": null,
      "outputs": []
    },
    {
      "cell_type": "code",
      "execution_count": null,
      "id": "46f9c85a",
      "metadata": {
        "scrolled": true,
        "id": "46f9c85a"
      },
      "outputs": [],
      "source": [
        "dax_DF = sign_similarity(dax_DF_returns)"
      ]
    },
    {
      "cell_type": "code",
      "source": [
        "dax_DF"
      ],
      "metadata": {
        "colab": {
          "base_uri": "https://localhost:8080/"
        },
        "id": "Ub1w2jUtDekc",
        "outputId": "df9bcbd7-b724-4533-ebfd-6d265269f5cf"
      },
      "id": "Ub1w2jUtDekc",
      "execution_count": null,
      "outputs": [
        {
          "output_type": "execute_result",
          "data": {
            "text/plain": [
              "array([[1.   , 0.588, 0.62 , ..., 0.636, 0.656, 0.692],\n",
              "       [0.588, 1.   , 0.672, ..., 0.568, 0.612, 0.592],\n",
              "       [0.62 , 0.672, 1.   , ..., 0.632, 0.596, 0.624],\n",
              "       ...,\n",
              "       [0.636, 0.568, 0.632, ..., 1.   , 0.676, 0.64 ],\n",
              "       [0.656, 0.612, 0.596, ..., 0.676, 1.   , 0.628],\n",
              "       [0.692, 0.592, 0.624, ..., 0.64 , 0.628, 1.   ]])"
            ]
          },
          "metadata": {},
          "execution_count": 18
        }
      ]
    },
    {
      "cell_type": "code",
      "execution_count": null,
      "id": "528c64ba",
      "metadata": {
        "scrolled": false,
        "id": "528c64ba",
        "outputId": "48bf9c5b-930f-4699-db74-737990de8efd",
        "colab": {
          "base_uri": "https://localhost:8080/",
          "height": 430
        }
      },
      "outputs": [
        {
          "output_type": "display_data",
          "data": {
            "text/plain": [
              "<Figure size 640x480 with 1 Axes>"
            ],
            "image/png": "[encoded data removed]"
          },
          "metadata": {}
        }
      ],
      "source": [
        "lst_DAX_corr = []\n",
        "\n",
        "for i in range(len(dax_DF)):\n",
        "    for j in range(i+1, len(dax_DF)):\n",
        "        lst_DAX_corr.append(dax_DF[i][j])\n",
        "plt.hist(lst_DAX_corr, bins=50)\n",
        "plt.show()"
      ]
    },
    {
      "cell_type": "code",
      "execution_count": null,
      "id": "8ee39750",
      "metadata": {
        "id": "8ee39750"
      },
      "outputs": [],
      "source": [
        "FTSE_DF = sign_similarity(FTSE_DF_returns)"
      ]
    },
    {
      "cell_type": "code",
      "source": [
        "FTSE_DF"
      ],
      "metadata": {
        "colab": {
          "base_uri": "https://localhost:8080/"
        },
        "id": "dmOAiR9E8K9f",
        "outputId": "ac0646db-8d5a-4804-86e8-af9026e70cf9"
      },
      "id": "dmOAiR9E8K9f",
      "execution_count": null,
      "outputs": [
        {
          "output_type": "execute_result",
          "data": {
            "text/plain": [
              "array([[1.        , 0.66527197, 0.62343096, ..., 0.65271967, 0.64435146,\n",
              "        0.63598326],\n",
              "       [0.66527197, 1.        , 0.59832636, ..., 0.61924686, 0.56066946,\n",
              "        0.59414226],\n",
              "       [0.62343096, 0.59832636, 1.        , ..., 0.59414226, 0.66945607,\n",
              "        0.58577406],\n",
              "       ...,\n",
              "       [0.65271967, 0.61924686, 0.59414226, ..., 1.        , 0.64853556,\n",
              "        0.69037657],\n",
              "       [0.64435146, 0.56066946, 0.66945607, ..., 0.64853556, 1.        ,\n",
              "        0.69874477],\n",
              "       [0.63598326, 0.59414226, 0.58577406, ..., 0.69037657, 0.69874477,\n",
              "        1.        ]])"
            ]
          },
          "metadata": {},
          "execution_count": 21
        }
      ]
    },
    {
      "cell_type": "code",
      "execution_count": null,
      "id": "6e6668cd",
      "metadata": {
        "id": "6e6668cd",
        "outputId": "7c4ba532-9a30-4418-9cc0-5a1e1c885f33",
        "colab": {
          "base_uri": "https://localhost:8080/",
          "height": 430
        }
      },
      "outputs": [
        {
          "output_type": "display_data",
          "data": {
            "text/plain": [
              "<Figure size 640x480 with 1 Axes>"
            ],
            "image/png": "[encoded data removed]"
          },
          "metadata": {}
        }
      ],
      "source": [
        "lst_FTSE_corr = []\n",
        "\n",
        "for i in range(len(FTSE_DF)):\n",
        "    for j in range(i+1, len(FTSE_DF)):\n",
        "        lst_FTSE_corr.append(FTSE_DF[i][j])\n",
        "plt.hist(lst_FTSE_corr, bins=50)\n",
        "plt.show()"
      ]
    },
    {
      "cell_type": "code",
      "execution_count": null,
      "id": "e1a01958",
      "metadata": {
        "scrolled": true,
        "id": "e1a01958"
      },
      "outputs": [],
      "source": [
        "CAC_DF =  sign_similarity(CAC_DF_returns)"
      ]
    },
    {
      "cell_type": "code",
      "source": [
        "CAC_DF"
      ],
      "metadata": {
        "colab": {
          "base_uri": "https://localhost:8080/"
        },
        "id": "JTxVjpNtXWwF",
        "outputId": "9436a7c0-149b-418d-fcb1-bed24eb333ba"
      },
      "id": "JTxVjpNtXWwF",
      "execution_count": null,
      "outputs": [
        {
          "output_type": "execute_result",
          "data": {
            "text/plain": [
              "array([[1.        , 0.64285714, 0.61538462, ..., 0.61538462, 0.68681319,\n",
              "        0.56593407],\n",
              "       [0.64285714, 1.        , 0.63186813, ..., 0.60989011, 0.67032967,\n",
              "        0.6043956 ],\n",
              "       [0.61538462, 0.63186813, 1.        , ..., 0.6043956 , 0.65384615,\n",
              "        0.6978022 ],\n",
              "       ...,\n",
              "       [0.61538462, 0.60989011, 0.6043956 , ..., 1.        , 0.70879121,\n",
              "        0.63186813],\n",
              "       [0.68681319, 0.67032967, 0.65384615, ..., 0.70879121, 1.        ,\n",
              "        0.67032967],\n",
              "       [0.56593407, 0.6043956 , 0.6978022 , ..., 0.63186813, 0.67032967,\n",
              "        1.        ]])"
            ]
          },
          "metadata": {},
          "execution_count": 24
        }
      ]
    },
    {
      "cell_type": "code",
      "execution_count": null,
      "id": "a523395b",
      "metadata": {
        "id": "a523395b",
        "outputId": "6106fa5b-19e9-479b-c2da-5a05efc0e0d0",
        "colab": {
          "base_uri": "https://localhost:8080/",
          "height": 430
        }
      },
      "outputs": [
        {
          "output_type": "display_data",
          "data": {
            "text/plain": [
              "<Figure size 640x480 with 1 Axes>"
            ],
            "image/png": "[encoded data removed]"
          },
          "metadata": {}
        }
      ],
      "source": [
        "lst_CAC_corr = []\n",
        "\n",
        "for i in range(len(CAC_DF)):\n",
        "    for j in range(i+1, len(CAC_DF)):\n",
        "        lst_CAC_corr.append(CAC_DF[i][j])\n",
        "plt.hist(lst_CAC_corr, bins=50)\n",
        "plt.show()"
      ]
    },
    {
      "cell_type": "code",
      "source": [
        "from scipy.stats import norm"
      ],
      "metadata": {
        "id": "0ed_TB3X3rHb"
      },
      "id": "0ed_TB3X3rHb",
      "execution_count": null,
      "outputs": []
    },
    {
      "cell_type": "code",
      "source": [
        "from src.test_statistics import sign_similarity_statistics"
      ],
      "metadata": {
        "id": "NUXJstP8zNd3"
      },
      "id": "NUXJstP8zNd3",
      "execution_count": null,
      "outputs": []
    },
    {
      "cell_type": "code",
      "source": [
        "import numpy as np\n",
        "\n",
        "def compute_bounds(correlation_matrix, alpha, gamma_0):\n",
        "    upper_bounds = []\n",
        "    lower_bounds = []\n",
        "    ce = norm.ppf(0.05)\n",
        "    cn = norm.ppf(1-(0.05))\n",
        "\n",
        "      # Вычисление верхних и нижних границ для каждой пары (i, j)\n",
        "    for i in range(N):\n",
        "        for j in range(N):\n",
        "            if i < j:\n",
        "\n",
        "\n",
        "                  # Проверка гипотезы для верхней границы\n",
        "                if correlation_matrix[i,j] >= ce:\n",
        "\n",
        "                    upper_bounds.append(correlation_matrix[i, j])\n",
        "\n",
        "                  # Проверка гипотезы для нижней границы\n",
        "                if correlation_matrix[i,j] > cn:\n",
        "                    lower_bounds.append(correlation_matrix[i, j])\n",
        "\n",
        "    return upper_bounds, lower_bounds\n",
        "\n",
        "\n"
      ],
      "metadata": {
        "id": "MHqulhXsJz8F"
      },
      "id": "MHqulhXsJz8F",
      "execution_count": null,
      "outputs": []
    },
    {
      "cell_type": "code",
      "source": [
        "N = CAC_DF_returns.corr().shape[0]\n",
        "M=((N*(N-1))/2)\n",
        "alpha = 0.1\n",
        "gamma_0_values = np.arange(-0.1, 1.0, 0.05)\n",
        "#gamma_0_values = [0.05, 0.1, 0.4, 0.5]\n",
        "matrix = np.array(CAC_DF_returns.corr())\n"
      ],
      "metadata": {
        "id": "SHKBnZ6ZEV64"
      },
      "id": "SHKBnZ6ZEV64",
      "execution_count": null,
      "outputs": []
    },
    {
      "cell_type": "code",
      "source": [
        "upper_bounds_counts = []\n",
        "lower_bounds_counts = []\n",
        "uncertainty_fr = []\n",
        "for gamma_0 in gamma_0_values:\n",
        "  correlation_matrix = []\n",
        "  correlation_matrix = sign_similarity_statistics(CAC_DF_returns, gamma_0)\n",
        "  upper_bounds, lower_bounds = compute_bounds(correlation_matrix,alpha, gamma_0)\n",
        "  upper_bounds_counts.append(len(upper_bounds))\n",
        "  lower_bounds_counts.append(len(lower_bounds))\n",
        "  uncertainty_fr.append(len(upper_bounds)-len(lower_bounds))\n"
      ],
      "metadata": {
        "id": "SmYAytNOaUct",
        "colab": {
          "base_uri": "https://localhost:8080/"
        },
        "outputId": "725709aa-d2ae-4109-b9f4-605a165132db"
      },
      "id": "SmYAytNOaUct",
      "execution_count": null,
      "outputs": [
        {
          "output_type": "stream",
          "name": "stderr",
          "text": [
            "/content/src/test_statistics.py:88: RuntimeWarning: invalid value encountered in sqrt\n",
            "  return np.sqrt(n) * (sign_similarity(x) - threshold) / np.sqrt(threshold * (1 - threshold))\n",
            "/content/src/test_statistics.py:88: RuntimeWarning: divide by zero encountered in divide\n",
            "  return np.sqrt(n) * (sign_similarity(x) - threshold) / np.sqrt(threshold * (1 - threshold))\n"
          ]
        }
      ]
    },
    {
      "cell_type": "code",
      "source": [
        "# Построение графиков\n",
        "plt.figure(figsize=(10, 6))\n",
        "plt.plot(gamma_0_values, upper_bounds_counts, label='Upper bounds')\n",
        "plt.plot(gamma_0_values, lower_bounds_counts, label='Lower bounds')\n",
        "plt.xlabel('Gamma_0')\n",
        "plt.ylabel('Number of bounds')\n",
        "plt.title('France')\n",
        "plt.legend()\n",
        "plt.grid(True)\n",
        "plt.show()"
      ],
      "metadata": {
        "colab": {
          "base_uri": "https://localhost:8080/",
          "height": 564
        },
        "id": "Z0uyrkB_cViW",
        "outputId": "42719949-9380-42c0-cc16-dd9543c130a3"
      },
      "id": "Z0uyrkB_cViW",
      "execution_count": null,
      "outputs": [
        {
          "output_type": "display_data",
          "data": {
            "text/plain": [
              "<Figure size 1000x600 with 1 Axes>"
            ],
            "image/png": "[encoded data removed]"
          },
          "metadata": {}
        }
      ]
    },
    {
      "cell_type": "code",
      "source": [
        "N = FTSE_DF_returns.corr().shape[0]\n",
        "M=((N*(N-1))/2)\n",
        "alpha = 0.1\n",
        "gamma_0_values = np.arange(-0.1, 1.0, 0.05)\n",
        "#gamma_0_values = [0.05, 0.1, 0.4, 0.5]\n",
        "matrix = np.array(FTSE_DF_returns.corr())"
      ],
      "metadata": {
        "id": "bw-DmvkMJBxK"
      },
      "id": "bw-DmvkMJBxK",
      "execution_count": null,
      "outputs": []
    },
    {
      "cell_type": "code",
      "source": [
        "upper_bounds_counts = []\n",
        "lower_bounds_counts = []\n",
        "uncertainty_eng = []\n",
        "for gamma_0 in gamma_0_values:\n",
        "  correlation_matrix = []\n",
        "  correlation_matrix = sign_similarity_statistics(FTSE_DF_returns, gamma_0)\n",
        "  upper_bounds, lower_bounds = compute_bounds(correlation_matrix,alpha, gamma_0)\n",
        "  upper_bounds_counts.append(len(upper_bounds))\n",
        "  lower_bounds_counts.append(len(lower_bounds))\n",
        "  uncertainty_eng.append(len(upper_bounds)-len(lower_bounds))\n"
      ],
      "metadata": {
        "id": "rvnYZka9K-_1",
        "colab": {
          "base_uri": "https://localhost:8080/"
        },
        "outputId": "8c15756e-6764-46bc-f2c8-696f19d3c42e"
      },
      "id": "rvnYZka9K-_1",
      "execution_count": null,
      "outputs": [
        {
          "output_type": "stream",
          "name": "stderr",
          "text": [
            "/content/src/test_statistics.py:88: RuntimeWarning: invalid value encountered in sqrt\n",
            "  return np.sqrt(n) * (sign_similarity(x) - threshold) / np.sqrt(threshold * (1 - threshold))\n",
            "/content/src/test_statistics.py:88: RuntimeWarning: divide by zero encountered in divide\n",
            "  return np.sqrt(n) * (sign_similarity(x) - threshold) / np.sqrt(threshold * (1 - threshold))\n"
          ]
        }
      ]
    },
    {
      "cell_type": "code",
      "source": [
        "# Построение графиков\n",
        "plt.figure(figsize=(10, 6))\n",
        "plt.plot(gamma_0_values, upper_bounds_counts, label='Upper bounds')\n",
        "plt.plot(gamma_0_values, lower_bounds_counts, label='Lower bounds')\n",
        "plt.xlabel('Gamma_0')\n",
        "plt.ylabel('Number of bounds')\n",
        "plt.title('England')\n",
        "plt.legend()\n",
        "plt.grid(True)\n",
        "plt.show()"
      ],
      "metadata": {
        "colab": {
          "base_uri": "https://localhost:8080/",
          "height": 564
        },
        "id": "h8msoL_QFDlC",
        "outputId": "dc8914a0-9fb9-428a-8fc2-cb2a45c482e3"
      },
      "id": "h8msoL_QFDlC",
      "execution_count": null,
      "outputs": [
        {
          "output_type": "display_data",
          "data": {
            "text/plain": [
              "<Figure size 1000x600 with 1 Axes>"
            ],
            "image/png": "[encoded data removed]"
          },
          "metadata": {}
        }
      ]
    },
    {
      "cell_type": "code",
      "source": [
        "N = dax_DF_returns.corr().shape[0]\n",
        "M=((N*(N-1))/2)\n",
        "alpha = 0.1\n",
        "gamma_0_values = np.arange(-0.1, 1.0, 0.05)\n",
        "#gamma_0_values = [0.05, 0.1, 0.4, 0.5]\n",
        "matrix = np.array(dax_DF_returns.corr())"
      ],
      "metadata": {
        "id": "vXn8uXBBK4m5"
      },
      "id": "vXn8uXBBK4m5",
      "execution_count": null,
      "outputs": []
    },
    {
      "cell_type": "code",
      "source": [
        "upper_bounds_counts = []\n",
        "lower_bounds_counts = []\n",
        "uncertainty_germ = []\n",
        "for gamma_0 in gamma_0_values:\n",
        "  correlation_matrix = []\n",
        "  correlation_matrix = sign_similarity_statistics(dax_DF_returns, gamma_0)\n",
        "  upper_bounds, lower_bounds = compute_bounds(correlation_matrix,alpha, gamma_0)\n",
        "  upper_bounds_counts.append(len(upper_bounds))\n",
        "  lower_bounds_counts.append(len(lower_bounds))\n",
        "  uncertainty_germ.append(len(upper_bounds)-len(lower_bounds))\n"
      ],
      "metadata": {
        "id": "_0JBWkFELDW_",
        "colab": {
          "base_uri": "https://localhost:8080/"
        },
        "outputId": "6dd0556c-26f4-423d-a542-e33908e5b915"
      },
      "id": "_0JBWkFELDW_",
      "execution_count": null,
      "outputs": [
        {
          "output_type": "stream",
          "name": "stderr",
          "text": [
            "/content/src/test_statistics.py:88: RuntimeWarning: invalid value encountered in sqrt\n",
            "  return np.sqrt(n) * (sign_similarity(x) - threshold) / np.sqrt(threshold * (1 - threshold))\n",
            "/content/src/test_statistics.py:88: RuntimeWarning: divide by zero encountered in divide\n",
            "  return np.sqrt(n) * (sign_similarity(x) - threshold) / np.sqrt(threshold * (1 - threshold))\n"
          ]
        }
      ]
    },
    {
      "cell_type": "code",
      "source": [
        "# Построение графиков\n",
        "plt.figure(figsize=(10, 6))\n",
        "plt.plot(gamma_0_values, upper_bounds_counts, label='Upper bounds')\n",
        "plt.plot(gamma_0_values, lower_bounds_counts, label='Lower bounds')\n",
        "plt.xlabel('Gamma_0')\n",
        "plt.ylabel('Number of bounds')\n",
        "plt.title('German')\n",
        "plt.legend()\n",
        "plt.grid(True)\n",
        "plt.show()"
      ],
      "metadata": {
        "colab": {
          "base_uri": "https://localhost:8080/",
          "height": 564
        },
        "id": "-DwlyaeCFc53",
        "outputId": "08e60286-2580-42fa-9d56-1b31458a4f9f"
      },
      "id": "-DwlyaeCFc53",
      "execution_count": null,
      "outputs": [
        {
          "output_type": "display_data",
          "data": {
            "text/plain": [
              "<Figure size 1000x600 with 1 Axes>"
            ],
            "image/png": "[encoded data removed]"
          },
          "metadata": {}
        }
      ]
    },
    {
      "cell_type": "code",
      "source": [
        "plt.figure(figsize=(10, 6))\n",
        "plt.plot(gamma_0_values, uncertainty_germ, label='German')\n",
        "plt.plot(gamma_0_values, uncertainty_fr, label='France')\n",
        "plt.plot(gamma_0_values, uncertainty_eng, label='England')\n",
        "plt.xlabel('Gamma_0')\n",
        "plt.ylabel('Number of bounds')\n",
        "plt.title('Uncertainty')\n",
        "plt.legend()\n",
        "plt.grid(True)\n",
        "plt.show()"
      ],
      "metadata": {
        "colab": {
          "base_uri": "https://localhost:8080/",
          "height": 564
        },
        "id": "ImOFaFZ_LhRm",
        "outputId": "da217dbe-3cc0-4b37-bc46-3dd4157985bb"
      },
      "id": "ImOFaFZ_LhRm",
      "execution_count": null,
      "outputs": [
        {
          "output_type": "display_data",
          "data": {
            "text/plain": [
              "<Figure size 1000x600 with 1 Axes>"
            ],
            "image/png": "[encoded data removed]"
          },
          "metadata": {}
        }
      ]
    }
  ],
  "metadata": {
    "kernelspec": {
      "display_name": "Python 3 (ipykernel)",
      "language": "python",
      "name": "python3"
    },
    "language_info": {
      "codemirror_mode": {
        "name": "ipython",
        "version": 3
      },
      "file_extension": ".py",
      "mimetype": "text/x-python",
      "name": "python",
      "nbconvert_exporter": "python",
      "pygments_lexer": "ipython3",
      "version": "3.11.5"
    },
    "colab": {
      "provenance": [],
      "include_colab_link": true
    }
  },
  "nbformat": 4,
  "nbformat_minor": 5
}